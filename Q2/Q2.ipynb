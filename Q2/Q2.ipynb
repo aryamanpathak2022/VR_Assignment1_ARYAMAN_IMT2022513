{
  "cells": [
    {
      "cell_type": "markdown",
      "metadata": {
        "colab_type": "text",
        "id": "view-in-github"
      },
      "source": [
        "<a href=\"https://colab.research.google.com/github/aryamanpathak2022/VR_Assignment1_ARYAMAN_IMT2022513/blob/main/Q2/Q2.ipynb\" target=\"_parent\"><img src=\"https://colab.research.google.com/assets/colab-badge.svg\" alt=\"Open In Colab\"/></a>"
      ]
    },
    {
      "cell_type": "code",
      "execution_count": null,
      "metadata": {
        "id": "azdL2EF7UVi3"
      },
      "outputs": [],
      "source": [
        "import os\n",
        "import numpy as np\n",
        "import imutils\n",
        "import cv2\n",
        "\n",
        "from tqdm import tqdm"
      ]
    },
    {
      "cell_type": "code",
      "execution_count": 2,
      "metadata": {
        "colab": {
          "base_uri": "https://localhost:8080/"
        },
        "id": "E_XcdwZJU_dv",
        "outputId": "7dfc2639-4a2c-4312-b5f1-1b17a38d6940"
      },
      "outputs": [
        {
          "name": "stdout",
          "output_type": "stream",
          "text": [
            "Enter the input directory: ./\n",
            "Enter the output directory: ./\n"
          ]
        }
      ],
      "source": [
        "# input from user\n",
        "input_dir = input(\"Enter the input directory: \")\n",
        "output_dir = input(\"Enter the output directory: \")"
      ]
    },
    {
      "cell_type": "code",
      "execution_count": 3,
      "metadata": {
        "id": "_mAtHCwRVMwZ"
      },
      "outputs": [],
      "source": [
        "# Load images and filter out non-numeric filenames\n",
        "img_path = [os.path.join(input_dir, i) for i in os.listdir(input_dir) if os.path.splitext(i)[0].isdigit()]\n",
        "assert len(img_path) > 0, \"No valid images found in input folder\"\n",
        "\n",
        "# Sort by numeric filename\n",
        "img_path.sort(key=lambda x: int(os.path.splitext(os.path.basename(x))[0]))"
      ]
    },
    {
      "cell_type": "code",
      "execution_count": 4,
      "metadata": {
        "id": "LxP5OfEhVYXN"
      },
      "outputs": [],
      "source": [
        "# Read the first image\n",
        "left_img = cv2.imread(img_path[0])\n",
        "left_img = imutils.resize(left_img, width=600)\n",
        "# cv2_imshow(left_img)\n",
        "# cv2.waitKey(0)\n",
        "# cv2.destroyAllWindows()\n"
      ]
    },
    {
      "cell_type": "code",
      "execution_count": 5,
      "metadata": {
        "id": "QHg_Vv-igvJ4"
      },
      "outputs": [],
      "source": [
        "from google.colab.patches import cv2_imshow"
      ]
    },
    {
      "cell_type": "code",
      "execution_count": 8,
      "metadata": {
        "colab": {
          "base_uri": "https://localhost:8080/"
        },
        "id": "aB42-nBOVcYl",
        "outputId": "95ea54a3-4765-438f-ce5c-9c94bd353c42"
      },
      "outputs": [
        {
          "name": "stdout",
          "output_type": "stream",
          "text": [
            "3\n"
          ]
        },
        {
          "name": "stderr",
          "output_type": "stream",
          "text": [
            " 50%|█████     | 1/2 [00:00<00:00,  1.09it/s]"
          ]
        },
        {
          "name": "stdout",
          "output_type": "stream",
          "text": [
            "Keypoints in Left Image: 3214, Right Image: 1966\n",
            "Using 929 matches to compute homography\n",
            "Homography Matrix:\n",
            " [[ 1.73731695e+00 -3.63647941e-02 -3.19699977e+02]\n",
            " [ 3.01709481e-01  1.46315882e+00 -1.20233237e+02]\n",
            " [ 1.23060675e-03 -6.69432176e-06  1.00000000e+00]]\n"
          ]
        },
        {
          "name": "stderr",
          "output_type": "stream",
          "text": [
            "100%|██████████| 2/2 [00:01<00:00,  1.25it/s]"
          ]
        },
        {
          "name": "stdout",
          "output_type": "stream",
          "text": [
            "Keypoints in Left Image: 2281, Right Image: 1692\n",
            "Using 640 matches to compute homography\n",
            "Homography Matrix:\n",
            " [[ 5.73648723e-01  1.65949472e-02  1.84837091e+02]\n",
            " [-1.76797063e-01  8.37945021e-01  4.36648271e+01]\n",
            " [-7.08127166e-04 -7.01440775e-06  1.00000000e+00]]\n"
          ]
        },
        {
          "name": "stderr",
          "output_type": "stream",
          "text": [
            "\n"
          ]
        }
      ],
      "source": [
        "#process\n",
        "# Iterate through images\n",
        "print(len(img_path))\n",
        "for i in tqdm(range(1, len(img_path))):\n",
        "    right_img = cv2.imread(img_path[i])\n",
        "    right_img = imutils.resize(right_img, width=600)\n",
        "\n",
        "    # Detect keypoints and descriptors using SIFT\n",
        "    descriptor = cv2.SIFT_create()\n",
        "    kpsA, desA = descriptor.detectAndCompute(left_img, None)\n",
        "\n",
        "    kpsB, desB = descriptor.detectAndCompute(right_img, None)\n",
        "    kpsA=np.float32([kp.pt for kp in kpsA]) #keypoints to float32 array\n",
        "    kpsB=np.float32([kp.pt for kp in kpsB]) #keypoints to float32 array\n",
        "    print(f\"Keypoints in Left Image: {len(kpsA)}, Right Image: {len(kpsB)}\")\n",
        "\n",
        "    # Match keypoints using KNN\n",
        "    matcher = cv2.BFMatcher()\n",
        "    rawMatches = matcher.knnMatch(desA, desB, k=2)\n",
        "\n",
        "    matches = []\n",
        "    for m in rawMatches:\n",
        "        if len(m) == 2 and m[0].distance < m[1].distance * 0.75:\n",
        "            matches.append((m[0].trainIdx, m[0].queryIdx))\n",
        "\n",
        "    if len(matches) > 4:\n",
        "        print(f\"Using {len(matches)} matches to compute homography\")\n",
        "        # Extract (x, y) coordinates from keypoints\n",
        "        ptsA = np.float32([kpsA[i] for (_, i) in matches])\n",
        "        ptsB = np.float32([kpsB[i] for (i, _) in matches])\n",
        "\n",
        "        # Compute homography\n",
        "        H, status = cv2.findHomography(ptsA,ptsB, cv2.RANSAC, 5.0)\n",
        "\n",
        "        if H is None:\n",
        "          print(\"Homography matrix is None! Not enough matches?\")\n",
        "          continue\n",
        "\n",
        "        print(\"Homography Matrix:\\n\", H)\n",
        "        # Warp left image to new perspective\n",
        "        new_width = left_img.shape[1] + right_img.shape[1]  # Add extra padding\n",
        "        new_height = max(left_img.shape[0], right_img.shape[0])\n",
        "        pano_img = cv2.warpPerspective(left_img, H, (new_width, new_height))\n",
        "\n",
        "\n",
        "        # Compute the minimum height and width to avoid size mismatch\n",
        "        min_height = min(pano_img.shape[0], right_img.shape[0])\n",
        "        min_width = min(pano_img.shape[1], right_img.shape[1])\n",
        "\n",
        "        # Crop both images to the same size\n",
        "        pano_img[0:right_img.shape[0], 0:right_img.shape[1]] = right_img\n",
        "\n",
        "\n",
        "        # Convert to grayscale and crop black regions\n",
        "        gray = cv2.cvtColor(pano_img, cv2.COLOR_BGR2GRAY)\n",
        "        _, thresh = cv2.threshold(gray, 0, 255, cv2.THRESH_BINARY)\n",
        "        contours, _ = cv2.findContours(thresh, cv2.RETR_EXTERNAL, cv2.CHAIN_APPROX_SIMPLE)\n",
        "\n",
        "        if contours:\n",
        "            x, y, w, h = cv2.boundingRect(contours[0])\n",
        "            pano_img = pano_img[y:y+h-1, x:x+w-1]  # Crop non-black region\n",
        "\n",
        "        left_img = pano_img.copy()  # Update left_img for next iteration\n",
        "\n"
      ]
    },
    {
      "cell_type": "code",
      "execution_count": 9,
      "metadata": {
        "colab": {
          "base_uri": "https://localhost:8080/"
        },
        "id": "HZaYlB2gVgXz",
        "outputId": "41c296c3-386b-45ba-aaf7-a79c75e43c80"
      },
      "outputs": [
        {
          "data": {
            "text/plain": [
              "True"
            ]
          },
          "execution_count": 9,
          "metadata": {},
          "output_type": "execute_result"
        }
      ],
      "source": [
        "cv2.imwrite(os.path.join(output_dir, \"panorama.jpg\"), left_img) # save the panoroma to output dir"
      ]
    },
    {
      "cell_type": "code",
      "execution_count": null,
      "metadata": {
        "id": "iK838fKNaI77"
      },
      "outputs": [],
      "source": []
    }
  ],
  "metadata": {
    "colab": {
      "authorship_tag": "ABX9TyMkj0Yc8S8X32DFO+3FJP4/",
      "include_colab_link": true,
      "provenance": []
    },
    "kernelspec": {
      "display_name": "Python 3",
      "name": "python3"
    },
    "language_info": {
      "name": "python"
    }
  },
  "nbformat": 4,
  "nbformat_minor": 0
}
