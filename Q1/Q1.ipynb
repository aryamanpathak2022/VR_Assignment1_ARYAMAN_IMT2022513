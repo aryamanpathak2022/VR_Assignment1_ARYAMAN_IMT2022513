{
  "nbformat": 4,
  "nbformat_minor": 0,
  "metadata": {
    "colab": {
      "provenance": [],
      "authorship_tag": "ABX9TyOSDpTSOktYJ+5tAXuV9hBS",
      "include_colab_link": true
    },
    "kernelspec": {
      "name": "python3",
      "display_name": "Python 3"
    },
    "language_info": {
      "name": "python"
    }
  },
  "cells": [
    {
      "cell_type": "markdown",
      "metadata": {
        "id": "view-in-github",
        "colab_type": "text"
      },
      "source": [
        "<a href=\"https://colab.research.google.com/github/aryamanpathak2022/cv_models/blob/main/Assignment1/Q1.ipynb\" target=\"_parent\"><img src=\"https://colab.research.google.com/assets/colab-badge.svg\" alt=\"Open In Colab\"/></a>"
      ]
    },
    {
      "cell_type": "code",
      "source": [
        "!pip install opencv-python numpy argparse"
      ],
      "metadata": {
        "colab": {
          "base_uri": "https://localhost:8080/",
          "height": 260
        },
        "id": "S3koufK6Tom6",
        "outputId": "ccf4feaa-0720-4bb4-b205-a91004033339"
      },
      "execution_count": 100,
      "outputs": [
        {
          "output_type": "stream",
          "name": "stdout",
          "text": [
            "Requirement already satisfied: opencv-python in /usr/local/lib/python3.11/dist-packages (4.11.0.86)\n",
            "Requirement already satisfied: numpy in /usr/local/lib/python3.11/dist-packages (1.26.4)\n",
            "Collecting argparse\n",
            "  Downloading argparse-1.4.0-py2.py3-none-any.whl.metadata (2.8 kB)\n",
            "Downloading argparse-1.4.0-py2.py3-none-any.whl (23 kB)\n",
            "Installing collected packages: argparse\n",
            "Successfully installed argparse-1.4.0\n"
          ]
        },
        {
          "output_type": "display_data",
          "data": {
            "application/vnd.colab-display-data+json": {
              "pip_warning": {
                "packages": [
                  "argparse"
                ]
              },
              "id": "3c013621d5274936aaedeb0ae493e201"
            }
          },
          "metadata": {}
        }
      ]
    },
    {
      "cell_type": "code",
      "execution_count": 1,
      "metadata": {
        "id": "6xkFB6nIJvPH"
      },
      "outputs": [],
      "source": [
        "import cv2\n",
        "import numpy as np\n",
        "import os\n",
        "import argparse"
      ]
    },
    {
      "cell_type": "code",
      "source": [
        "def preprocess_image(image_path):\n",
        "    \"\"\"\n",
        "    Pre-processes an image by converting it to grayscale, resizing it,\n",
        "    applying Gaussian blur, and adaptive thresholding.\n",
        "\n",
        "    Args:\n",
        "        image_path (str): Path to the input image.\n",
        "\n",
        "    Returns:\n",
        "        tuple: Processed image, thresholded image, and scale factor.\n",
        "    \"\"\"\n",
        "    # Load the image\n",
        "    image = cv2.imread(image_path)\n",
        "    image2=image\n",
        "\n",
        "    if image is None:\n",
        "        raise ValueError(\"Error loading image. Check the file path.\")\n",
        "\n",
        "    # Convert to grayscale\n",
        "    gray = cv2.cvtColor(image, cv2.COLOR_BGR2GRAY)\n",
        "\n",
        "    # Compute scale factor to resize the image while maintaining aspect ratio\n",
        "    max_dim = max(image.shape[:2])\n",
        "    scale_factor = 1000 / max_dim if max_dim > 1000 else 1.0\n",
        "\n",
        "    # Resize both color and grayscale images\n",
        "    new_size = (int(image.shape[1] * scale_factor), int(image.shape[0] * scale_factor))\n",
        "    image = cv2.resize(image, new_size)\n",
        "    gray = cv2.resize(gray, new_size)\n",
        "\n",
        "    # Apply Gaussian blur to reduce noise\n",
        "    blurred = cv2.GaussianBlur(gray, (7, 7), 0)\n",
        "\n",
        "    # Adaptive thresholding for edge detection\n",
        "    thresh = cv2.adaptiveThreshold(blurred, 255, cv2.ADAPTIVE_THRESH_GAUSSIAN_C,\n",
        "                                   cv2.THRESH_BINARY_INV, 11, 2)\n",
        "\n",
        "    return image, thresh, scale_factor"
      ],
      "metadata": {
        "id": "xbp30UtcJ3yF"
      },
      "execution_count": 51,
      "outputs": []
    },
    {
      "cell_type": "code",
      "source": [
        "def detect_edges(image, thresh, scale_factor):\n",
        "    \"\"\"\n",
        "    Detects circular contours (likely coins) in a thresholded image and\n",
        "    returns the processed image with contours drawn.\n",
        "\n",
        "    Args:\n",
        "        image (numpy.ndarray): Original input image.\n",
        "        thresh (numpy.ndarray): Thresholded binary image.\n",
        "        scale_factor (float): Scale factor used in preprocessing.\n",
        "\n",
        "    Returns:\n",
        "        tuple: (List of detected circular contours, Processed image with contours drawn)\n",
        "    \"\"\"\n",
        "    # Find contours in the thresholded image\n",
        "    contours, _ = cv2.findContours(thresh, cv2.RETR_EXTERNAL, cv2.CHAIN_APPROX_SIMPLE)\n",
        "    detected_circles = []\n",
        "\n",
        "    for cnt in contours:\n",
        "        perimeter = cv2.arcLength(cnt, True)  # Contour perimeter\n",
        "        area = cv2.contourArea(cnt)  # Contour area\n",
        "\n",
        "        if perimeter > 0:\n",
        "            circular = (4 * np.pi * area) / (perimeter ** 2)  # Measure circularity\n",
        "\n",
        "            # Check if the shape is roughly circular and meets the minimum area condition\n",
        "            if 0.7 < circular < 1 and area > 450 * (scale_factor ** 2):\n",
        "                detected_circles.append(cnt)\n",
        "\n",
        "    # Draw detected circular contours on a copy of the original image\n",
        "    processed_image = image.copy()\n",
        "    cv2.drawContours(processed_image, detected_circles, -1, (0, 255, 0), 2)\n",
        "\n",
        "    return detected_circles, processed_image\n",
        "\n"
      ],
      "metadata": {
        "id": "nfm_AU2_J9yq"
      },
      "execution_count": 87,
      "outputs": []
    },
    {
      "cell_type": "code",
      "source": [
        "\n",
        "def segmentation(image, thresh, circle_coins):\n",
        "    \"\"\"\n",
        "    Segments circular objects (likely coins) from the image using contours and saves the result.\n",
        "\n",
        "    Args:\n",
        "        image (numpy.ndarray): Original input image.\n",
        "        thresh (numpy.ndarray): Thresholded binary image.\n",
        "        circle_coins (list): List of detected circular contours.\n",
        "\n",
        "    Returns:\n",
        "        numpy.ndarray: The segmented image with coins on a black background.\n",
        "    \"\"\"\n",
        "    if not circle_coins:\n",
        "        print(\"No coins detected for segmentation.\")\n",
        "        return None\n",
        "\n",
        "    # Create an empty mask\n",
        "    mask = np.zeros_like(thresh, dtype=np.uint8)\n",
        "\n",
        "    # Draw filled contours (coins) on the mask\n",
        "    cv2.drawContours(mask, circle_coins, -1, 255, thickness=cv2.FILLED)\n",
        "\n",
        "    # Apply mask to the original image to extract coins\n",
        "    segmented = cv2.bitwise_and(image, image, mask=mask)\n",
        "\n",
        "    # Create a black background with the same shape as the image\n",
        "    processed_img = np.zeros_like(image, dtype=np.uint8)\n",
        "\n",
        "    # Overlay segmented coins on the black background\n",
        "    processed_img[mask == 255] = segmented[mask == 255]\n",
        "\n",
        "\n",
        "\n",
        "\n",
        "    return processed_img"
      ],
      "metadata": {
        "id": "vn0rMdzvKBzn"
      },
      "execution_count": 99,
      "outputs": []
    },
    {
      "cell_type": "code",
      "source": [
        "\n",
        "def extract_each_coin(image, circle_coins,):\n",
        "    \"\"\"\n",
        "    Extracts individual circular objects (coins) from the image.\n",
        "\n",
        "    Args:\n",
        "        image (numpy.ndarray): Original input image.\n",
        "        circle_coins (list): List of detected circular contours.\n",
        "\n",
        "    Returns:\n",
        "        list: List of extracted coin images as numpy arrays.\n",
        "    \"\"\"\n",
        "    segmented_coins = []\n",
        "\n",
        "    if not circle_coins:\n",
        "        print(\"No coins detected for extraction.\")\n",
        "        return segmented_coins\n",
        "\n",
        "    for i, cnt in enumerate(circle_coins):\n",
        "        # Find the minimum enclosing circle for each coin\n",
        "        (x, y), radius = cv2.minEnclosingCircle(cnt)\n",
        "        center = (int(x), int(y))\n",
        "        radius = int(radius)\n",
        "\n",
        "        # Create a circular mask for extraction\n",
        "        mask = np.zeros_like(image, dtype=np.uint8)\n",
        "        cv2.circle(mask, center, radius, (255, 255, 255), -1)\n",
        "\n",
        "        # Apply mask to extract the coin\n",
        "        coin_segment = cv2.bitwise_and(image, mask)\n",
        "\n",
        "        # Define cropping coordinates ensuring they stay within image bounds\n",
        "        x1, y1 = max(center[0] - radius, 0), max(center[1] - radius, 0)\n",
        "        x2, y2 = min(center[0] + radius, image.shape[1]), min(center[1] + radius, image.shape[0])\n",
        "\n",
        "        # Crop the extracted coin area\n",
        "        coin_segment = coin_segment[y1:y2, x1:x2]\n",
        "\n",
        "        # Append to the list\n",
        "        segmented_coins.append(coin_segment)\n",
        "\n",
        "\n",
        "    return segmented_coins"
      ],
      "metadata": {
        "id": "gyaniTl3KD9p"
      },
      "execution_count": 97,
      "outputs": []
    },
    {
      "cell_type": "code",
      "source": [
        "# Take user input for paths\n",
        "input_path = input(\"Enter the path to the input image: \")\n",
        "output_path = input(\"Enter the directory to save the processed images: \")\n",
        "\n",
        "# Ensures the output path is a directory\n",
        "if not os.path.isdir(output_path):\n",
        "    os.makedirs(output_path, exist_ok=True)\n",
        "\n",
        "# Preprocess the image\n",
        "image, thresh, sf = preprocess_image(input_path)\n",
        "\n",
        "# Detect circular edges (coins)\n",
        "circle_coins, processed_img = detect_edges(image, thresh, sf)\n",
        "\n",
        "# Save the edges in the image\n",
        "output_file = os.path.join(output_path, \"edges_detected.jpg\")\n",
        "cv2.imwrite(output_file, processed_img)\n",
        "\n",
        "# Segment detected coins\n",
        "processed_img=segmentation(image, thresh, circle_coins)\n",
        "\n",
        "# Save the processed image\n",
        "output_file = os.path.join(output_path, \"segments.jpg\")\n",
        "cv2.imwrite(output_file,processed_img)\n",
        "\n",
        "\n",
        "# Extract each coin\n",
        "segmented_coins = extract_each_coin(image, circle_coins)\n",
        "\n",
        "# Save the cropped images of individual coins\n",
        "for i in segmented_coins:\n",
        "    output_file = os.path.join(output_path, f\"coin_{i}.jpg\")\n",
        "    cv2.imwrite(output_file, i)\n",
        "\n",
        "# Count and print the number of detected coins\n",
        "coin_count = count_coin(segmented_coins)\n",
        "\n",
        "\n",
        "print(f'{coin_count} coins detected')"
      ],
      "metadata": {
        "colab": {
          "base_uri": "https://localhost:8080/"
        },
        "id": "R6_0jIJmKJjN",
        "outputId": "ba33d731-db28-4a87-d611-fa1fe21bacfb"
      },
      "execution_count": 98,
      "outputs": [
        {
          "output_type": "stream",
          "name": "stdout",
          "text": [
            "Enter the path to the input image: test_x.jpg\n",
            "Enter the directory to save the processed images: ./\n",
            "6 coins detected\n"
          ]
        }
      ]
    },
    {
      "cell_type": "code",
      "source": [],
      "metadata": {
        "id": "wsU8pwlHKrf4"
      },
      "execution_count": 75,
      "outputs": []
    }
  ]
}